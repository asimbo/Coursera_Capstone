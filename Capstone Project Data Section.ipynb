{
    "cells": [
        {
            "cell_type": "markdown",
            "metadata": {
                "collapsed": true
            },
            "source": "## Data"
        },
        {
            "cell_type": "markdown",
            "metadata": {},
            "source": "### Data Requirements"
        },
        {
            "cell_type": "markdown",
            "metadata": {},
            "source": "To analysis requires us to build a cluster of businesses in different municipalities in Johannesburg and Cape Town, we will need data of business locations in the different suburbs. With the data of suburbs will then be converting to coordinates, that is latitude and longitude. We are then able to retrieve business names and categories in the surburbs. The first step is to find data on the names of suburbs in South Africa for both cities that is Johannesburg and Cape Town. With the names of suburbs we are able to call an API to retrieve businesses under a suburb. \n"
        },
        {
            "cell_type": "markdown",
            "metadata": {},
            "source": "### Data Collection"
        },
        {
            "cell_type": "markdown",
            "metadata": {},
            "source": "To build a business cluster model, the following datasets will be required\n- The names of suburbs of Johannesburg and Cape Town\nWithin a city like Johannesburg and Cape Town, administrative boundaries are further divided into municipalities from city boundaries which are further divided into suburbs. Suburbs are seen as the best way to query the businesses API as postal codes are not commonly used in Africa. The suburb names will be geocoded and converted to latitude and longitudes. This refinement will allow us to target the above cities with more accuracy and ensure that we capture the businesses in the specified cities with greater accuracy. The data will be scrapped from online sources such as Wikipedia.  The coordinates data will be used to query the business location API to retrieve the locations of businesses. \n\n- Geocoding\nGeocoding is the process of converting place name into latitude and longitude coordinate. A number of geocoding API exist including Bing, Google and Open Street Map. Due to the rate limits the best API will be sought and used. \n\n- The location of existing businesses in Cape Town and Johannesburg\nThe business location API that will be used is the Foursquare API. The Foursquare API has data of businesses and venues locations, that is latitude and longiude data. The data will also return the categories of the retrieved businesses. Foursquare lists businesses in a locality through crowd sourcing of that data where users post reviews of these businesses. \n"
        }
    ],
    "metadata": {
        "kernelspec": {
            "display_name": "Python 3.7",
            "language": "python",
            "name": "python3"
        },
        "language_info": {
            "codemirror_mode": {
                "name": "ipython",
                "version": 3
            },
            "file_extension": ".py",
            "mimetype": "text/x-python",
            "name": "python",
            "nbconvert_exporter": "python",
            "pygments_lexer": "ipython3",
            "version": "3.7.10"
        }
    },
    "nbformat": 4,
    "nbformat_minor": 1
}