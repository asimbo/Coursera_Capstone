{
    "cells": [
        {
            "metadata": {
                "collapsed": true
            },
            "cell_type": "markdown",
            "source": "# Business Problem"
        },
        {
            "metadata": {},
            "cell_type": "markdown",
            "source": "### Introduction"
        },
        {
            "metadata": {},
            "cell_type": "markdown",
            "source": " South Africa is located at the southern tip of Africa and is considered the most thriving country in the whole continent. The most thriving cities in South Africa are Johannesburg and Cape Town that accoount for the majority of the country's wealth. The population of Johannesburg is estimated to be at 5 million inhabitants whiles Cape Town has a population of about 4.6 million inhabitants thus making it the second most populous city in the country. Johannesburg accounts for the largest share of GDP per annum and has been the backborne of the economy from the times gold was discovered in 1884. Over the years perception have shifted though. Cape Town is seen by many as a city that offers better work and investment opportunities. For businesses looking to invest in either two cities, population and market size are not the only information they need but rather the existing infrastructure and businesses in the two cities. The need to also identify the different sectors within each city and identify the best sector to invest in as well as the optimal location to take advantage of the business opportunities drives this research. With this information, a business investor will have the knowledge to take of the opportunities offered by Africa's most thriving city.\n  "
        },
        {
            "metadata": {},
            "cell_type": "markdown",
            "source": "### Business problem"
        },
        {
            "metadata": {},
            "cell_type": "markdown",
            "source": "The African Investors forum has requested me to carry out and analysis of the two cities and provide information of which sectors are available in the different cities so that a decision can be made by their memebers and the best locations to invest in. This analysis will seek to provide answers to potential investors in Africa and specifically South Africa with the following:\n\n- The sectors that exist in the two cities of Johannesburg and Cape Town\n- The clustering of those sectors in both cities\n- The differences in the two cities in terms of the clustering of sectors and the diversity"
        },
        {
            "metadata": {},
            "cell_type": "code",
            "source": "",
            "execution_count": null,
            "outputs": []
        }
    ],
    "metadata": {
        "kernelspec": {
            "name": "python3",
            "display_name": "Python 3.7",
            "language": "python"
        },
        "language_info": {
            "name": "python",
            "version": "3.7.10",
            "mimetype": "text/x-python",
            "codemirror_mode": {
                "name": "ipython",
                "version": 3
            },
            "pygments_lexer": "ipython3",
            "nbconvert_exporter": "python",
            "file_extension": ".py"
        }
    },
    "nbformat": 4,
    "nbformat_minor": 1
}